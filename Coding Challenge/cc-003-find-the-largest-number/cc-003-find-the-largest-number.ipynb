{
 "cells": [
  {
   "cell_type": "code",
   "execution_count": 1,
   "metadata": {},
   "outputs": [
    {
     "name": "stdout",
     "output_type": "stream",
     "text": [
      "67 85 19 39 42 "
     ]
    },
    {
     "data": {
      "text/plain": [
       "85"
      ]
     },
     "execution_count": 1,
     "metadata": {},
     "output_type": "execute_result"
    }
   ],
   "source": [
    "from functools import reduce\n",
    "\n",
    "sayac = 0\n",
    "x = []\n",
    "while sayac < 5:\n",
    "    z = int(input(\"Lütfen Bir Sayı Giriniz: \"))\n",
    "    print(z,end=' ')\n",
    "    x.append(z)\n",
    "    sayac += 1\n",
    "\n",
    "def find_max(a,b):  # Bir fonsiyon yazdık, iki sayıyı karşılaştırsın, bize büyük olanını versin.\n",
    "    if a > b:\n",
    "        return a\n",
    "    return b\n",
    "\n",
    "reduce(find_max,x) \n",
    "# Ardından reduce fonksiyonu içersine yukarıdaki fonksiyonu ve listeyi parametre olarak giriyoruz.\n",
    "# Listenin elemanlarını ilk 2 elemandan başlamaz üzere ikişer ikişer alarak yazdığımız fonksiyon gereği en büyüğünü döndürerek bize istediğimiz sonucu veriyor."
   ]
  }
 ],
 "metadata": {
  "kernelspec": {
   "display_name": "Python 3.10.5 64-bit",
   "language": "python",
   "name": "python3"
  },
  "language_info": {
   "codemirror_mode": {
    "name": "ipython",
    "version": 3
   },
   "file_extension": ".py",
   "mimetype": "text/x-python",
   "name": "python",
   "nbconvert_exporter": "python",
   "pygments_lexer": "ipython3",
   "version": "3.10.5"
  },
  "orig_nbformat": 4,
  "vscode": {
   "interpreter": {
    "hash": "d798d489d89f42c06be0e00f6841f8364efff25bb4459f6d7737626825c5c741"
   }
  }
 },
 "nbformat": 4,
 "nbformat_minor": 2
}
