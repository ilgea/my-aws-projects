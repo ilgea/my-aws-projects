{
 "cells": [
  {
   "cell_type": "code",
   "execution_count": 287,
   "metadata": {},
   "outputs": [
    {
     "name": "stdout",
     "output_type": "stream",
     "text": [
      "###  This program converts milliseconds into hours, minutes, and seconds ###\n",
      "To exit the program, please type \"exit\"\n",
      "Please enter the milliseconds (should be greater than zero): \n"
     ]
    }
   ],
   "source": [
    "print('###  This program converts milliseconds into hours, minutes, and seconds ###')\n",
    "print('To exit the program, please type \"exit\"')\n",
    "print(\"Please enter the milliseconds (should be greater than zero): \")\n",
    "print(\"Please write 'exit' to exit program then press enter\")\n",
    "\n",
    "x = input()\n",
    "\n",
    "while True :\n",
    "\n",
    "    if x.isdecimal() == False:\n",
    "        print(\"Not Valid Input !!!\")\n",
    "        x = input()\n",
    "    else:\n",
    "        print(f\"{x} milliseconds :\")\n",
    "        st = int(x) // (60*60*1000)\n",
    "        dk = int(x) // (1000*60) % 60\n",
    "        sn = int(x) // (1000) % 60\n",
    "        if 1 <= int(x) <= 1000 :\n",
    "            print(f\"just {int(x)} millisecond/s\")\n",
    "        else:\n",
    "            if st == 0 :\n",
    "                if dk == 0 :\n",
    "                    print(f\"{sn} second/s\")\n",
    "                elif dk !=0:\n",
    "                    if sn == 0:\n",
    "                        print(f\"{dk} minute/s\")\n",
    "                    else:\n",
    "                        print(f\"{dk} minute/s {sn} second/s\")\n",
    "            elif st != 0 :\n",
    "                if dk == 0:\n",
    "                    if sn == 0:\n",
    "                        print(f\"{st} hour/s\")\n",
    "                    elif sn !=0 :\n",
    "                        print(f\"{st} hour/s {sn} second/s\")\n",
    "                elif dk !=0 :\n",
    "                    if sn == 0:\n",
    "                        print(f\"{st} hour/s {dk} minute/s\")\n",
    "                    elif sn !=0 :\n",
    "                        print(f\"{st} hour/s {dk} minute/s {sn} second/s\")\n",
    "\n",
    "    x = input().lower()\n",
    "    if x == 'exit':\n",
    "        print(\"Exiting the program...Good Bye\")\n",
    "        break\n"
   ]
  }
 ],
 "metadata": {
  "kernelspec": {
   "display_name": "Python 3.10.5 64-bit",
   "language": "python",
   "name": "python3"
  },
  "language_info": {
   "codemirror_mode": {
    "name": "ipython",
    "version": 3
   },
   "file_extension": ".py",
   "mimetype": "text/x-python",
   "name": "python",
   "nbconvert_exporter": "python",
   "pygments_lexer": "ipython3",
   "version": "3.10.5"
  },
  "orig_nbformat": 4,
  "vscode": {
   "interpreter": {
    "hash": "d798d489d89f42c06be0e00f6841f8364efff25bb4459f6d7737626825c5c741"
   }
  }
 },
 "nbformat": 4,
 "nbformat_minor": 2
}
