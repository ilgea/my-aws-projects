{
 "cells": [
  {
   "cell_type": "code",
   "execution_count": 124,
   "metadata": {},
   "outputs": [
    {
     "name": "stdout",
     "output_type": "stream",
     "text": [
      "###  This program converts milliseconds into hours, minutes, and seconds ###\n",
      "To exit the program, please type \"exit\"\n",
      "Please enter the milliseconds (should be greater than zero): \n"
     ]
    }
   ],
   "source": [
    "print('###  This program converts milliseconds into hours, minutes, and seconds ###')\n",
    "print('To exit the program, please type \"exit\"')\n",
    "print(\"Please enter the milliseconds (should be greater than zero): \")\n",
    "x = input()"
   ]
  },
  {
   "cell_type": "code",
   "execution_count": 287,
   "metadata": {},
   "outputs": [
    {
     "name": "stdout",
     "output_type": "stream",
     "text": [
      "###  This program converts milliseconds into hours, minutes, and seconds ###\n",
      "To exit the program, please type \"exit\"\n",
      "Please enter the milliseconds (should be greater than zero): \n",
      "Please write 'exit' to exit program then press enter\n",
      "555 milliseconds :\n",
      "just 555 millisecond/s\n",
      "2001 milliseconds :\n",
      "2 second/s\n",
      "60011 milliseconds :\n",
      "1 minute/s\n",
      "7322011 milliseconds :\n",
      "2 hour/s 2 minute/s 2 second/s\n",
      "Not Valid Input !!!\n",
      "Exiting the program...Good Bye\n"
     ]
    }
   ],
   "source": [
    "print('###  This program converts milliseconds into hours, minutes, and seconds ###')\n",
    "print('To exit the program, please type \"exit\"')\n",
    "print(\"Please enter the milliseconds (should be greater than zero): \")\n",
    "print(\"Please write 'exit' to exit program then press enter\")\n",
    "\n",
    "x = input()\n",
    "\n",
    "while True :\n",
    "\n",
    "    if x.isdecimal() == False:\n",
    "        print(\"Not Valid Input !!!\")\n",
    "        x = input()\n",
    "    else:\n",
    "        print(f\"{x} milliseconds :\")\n",
    "        st = int(x) // (60*60*1000)\n",
    "        dk = int(x) // (1000*60) % 60\n",
    "        sn = int(x) // (1000) % 60\n",
    "        if 1 <= int(x) <= 1000 :\n",
    "            print(f\"just {int(x)} millisecond/s\")\n",
    "        else:\n",
    "            if st == 0 :\n",
    "                if dk == 0 :\n",
    "                    print(f\"{sn} second/s\")\n",
    "                elif dk !=0:\n",
    "                    if sn == 0:\n",
    "                        print(f\"{dk} minute/s\")\n",
    "                    else:\n",
    "                        print(f\"{dk} minute/s {sn} second/s\")\n",
    "            elif st != 0 :\n",
    "                if dk == 0:\n",
    "                    if sn == 0:\n",
    "                        print(f\"{st} hour/s\")\n",
    "                    elif sn !=0 :\n",
    "                        print(f\"{st} hour/s {sn} second/s\")\n",
    "                elif dk !=0 :\n",
    "                    if sn == 0:\n",
    "                        print(f\"{st} hour/s {dk} minute/s\")\n",
    "                    elif sn !=0 :\n",
    "                        print(f\"{st} hour/s {dk} minute/s {sn} second/s\")\n",
    "\n",
    "    x = input().lower()\n",
    "    if x == 'exit':\n",
    "        print(\"Exiting the program...Good Bye\")\n",
    "        break\n"
   ]
  },
  {
   "cell_type": "code",
   "execution_count": 231,
   "metadata": {},
   "outputs": [
    {
     "name": "stdout",
     "output_type": "stream",
     "text": [
      "True\n"
     ]
    }
   ],
   "source": [
    "z= \"ten\"\n",
    "if z.isdecimal() == False or float(z) < 1 :\n",
    "    print(\"True\")\n",
    "else:\n",
    "    print(\"False\")"
   ]
  },
  {
   "cell_type": "code",
   "execution_count": 243,
   "metadata": {},
   "outputs": [
    {
     "name": "stdout",
     "output_type": "stream",
     "text": [
      "False\n"
     ]
    }
   ],
   "source": [
    "k = \"25\"\n",
    "if k.isdecimal() == False:\n",
    "    print(True)\n",
    "else:\n",
    "    print(False)"
   ]
  },
  {
   "cell_type": "code",
   "execution_count": 271,
   "metadata": {},
   "outputs": [],
   "source": [
    "y = 122011"
   ]
  },
  {
   "cell_type": "code",
   "execution_count": 272,
   "metadata": {},
   "outputs": [
    {
     "data": {
      "text/plain": [
       "0"
      ]
     },
     "execution_count": 272,
     "metadata": {},
     "output_type": "execute_result"
    }
   ],
   "source": [
    "y // (60*60*1000)"
   ]
  },
  {
   "cell_type": "code",
   "execution_count": 273,
   "metadata": {},
   "outputs": [
    {
     "data": {
      "text/plain": [
       "2"
      ]
     },
     "execution_count": 273,
     "metadata": {},
     "output_type": "execute_result"
    }
   ],
   "source": [
    "y // (1000*60) % 60"
   ]
  },
  {
   "cell_type": "code",
   "execution_count": 274,
   "metadata": {},
   "outputs": [
    {
     "data": {
      "text/plain": [
       "2"
      ]
     },
     "execution_count": 274,
     "metadata": {},
     "output_type": "execute_result"
    }
   ],
   "source": [
    "y // (1000) % 60"
   ]
  },
  {
   "cell_type": "code",
   "execution_count": 186,
   "metadata": {},
   "outputs": [
    {
     "data": {
      "text/plain": [
       "0.5"
      ]
     },
     "execution_count": 186,
     "metadata": {},
     "output_type": "execute_result"
    }
   ],
   "source": [
    "c = \"0.5\"\n",
    "float(c)\n"
   ]
  },
  {
   "cell_type": "code",
   "execution_count": 268,
   "metadata": {},
   "outputs": [],
   "source": [
    "g = 2001"
   ]
  },
  {
   "cell_type": "code",
   "execution_count": 270,
   "metadata": {},
   "outputs": [
    {
     "data": {
      "text/plain": [
       "2"
      ]
     },
     "execution_count": 270,
     "metadata": {},
     "output_type": "execute_result"
    }
   ],
   "source": [
    "sn = int(g) // (1000) % 60\n",
    "sn"
   ]
  },
  {
   "cell_type": "code",
   "execution_count": 288,
   "metadata": {},
   "outputs": [],
   "source": [
    "def convert(millisecond):\n",
    "    hour=millisecond//(60*60*1000)\n",
    "    millisecond_kalan=millisecond%(60*60*1000)\n",
    "    minute=millisecond_kalan//(60*1000)\n",
    "    millisecond_kalan=millisecond_kalan%(60*1000)\n",
    "    second=millisecond_kalan//1000\n",
    "\n",
    "    h=f'{hour} hour/s' if hour>0 else ''\n",
    "    m=f'{minute} minute/s' if minute>0 else ''\n",
    "    s=f'{second} second/s' if second>0 else f'just {millisecond} millisecond/s' if millisecond<1000 else ''\n",
    "    return h +' '+ m +' '+ s"
   ]
  },
  {
   "cell_type": "code",
   "execution_count": 292,
   "metadata": {},
   "outputs": [
    {
     "data": {
      "text/plain": [
       "'  just 0.5 millisecond/s'"
      ]
     },
     "execution_count": 292,
     "metadata": {},
     "output_type": "execute_result"
    }
   ],
   "source": [
    "convert(0.5)"
   ]
  },
  {
   "cell_type": "code",
   "execution_count": null,
   "metadata": {},
   "outputs": [],
   "source": []
  },
  {
   "cell_type": "code",
   "execution_count": null,
   "metadata": {},
   "outputs": [],
   "source": []
  }
 ],
 "metadata": {
  "kernelspec": {
   "display_name": "Python 3.10.5 64-bit",
   "language": "python",
   "name": "python3"
  },
  "language_info": {
   "codemirror_mode": {
    "name": "ipython",
    "version": 3
   },
   "file_extension": ".py",
   "mimetype": "text/x-python",
   "name": "python",
   "nbconvert_exporter": "python",
   "pygments_lexer": "ipython3",
   "version": "3.10.5"
  },
  "orig_nbformat": 4,
  "vscode": {
   "interpreter": {
    "hash": "d798d489d89f42c06be0e00f6841f8364efff25bb4459f6d7737626825c5c741"
   }
  }
 },
 "nbformat": 4,
 "nbformat_minor": 2
}
